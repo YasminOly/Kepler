{
 "cells": [
  {
   "cell_type": "markdown",
   "id": "228dda4a-a34b-422f-a315-8308d9652db0",
   "metadata": {},
   "source": [
    "# Linguagem Python aplicada a () Leis de Kepler"
   ]
  },
  {
   "cell_type": "code",
   "execution_count": 1,
   "id": "74e76803-7cb2-4433-b1cd-6048f3d52f53",
   "metadata": {},
   "outputs": [],
   "source": [
    "import sympy as sy"
   ]
  },
  {
   "cell_type": "markdown",
   "id": "8a4d22c3-bf2b-4336-b287-b9a2d0151526",
   "metadata": {},
   "source": [
    "Partindo dos cálculos de Newton e sabendo:"
   ]
  },
  {
   "cell_type": "code",
   "execution_count": 3,
   "id": "7efa4bcd-bd17-4cb3-a92b-ef539a9b5e5e",
   "metadata": {},
   "outputs": [
    {
     "data": {
      "text/latex": [
       "$\\displaystyle FG = \\frac{G M m}{a^{2}}$"
      ],
      "text/plain": [
       "Eq(FG, G*M*m/a**2)"
      ]
     },
     "execution_count": 3,
     "metadata": {},
     "output_type": "execute_result"
    }
   ],
   "source": [
    "FG, G, M, m, a = sy.symbols('FG G M m a')\n",
    "sy.Eq(FG, G*M*m/a**2)"
   ]
  },
  {
   "cell_type": "code",
   "execution_count": 4,
   "id": "1eda2077-37c4-4f56-a031-f921c8807377",
   "metadata": {},
   "outputs": [
    {
     "data": {
      "text/latex": [
       "$\\displaystyle FC = \\frac{m v^{2}}{a}$"
      ],
      "text/plain": [
       "Eq(FC, m*v**2/a)"
      ]
     },
     "execution_count": 4,
     "metadata": {},
     "output_type": "execute_result"
    }
   ],
   "source": [
    "FC, m, v, a = sy.symbols('FC, m, v, a')\n",
    "sy.Eq(FC, m*v**2/a)"
   ]
  },
  {
   "cell_type": "markdown",
   "id": "0ebb2a0a-1b38-4c7b-95ce-982dad09cc30",
   "metadata": {},
   "source": [
    "Igualando as duas equações:"
   ]
  },
  {
   "cell_type": "code",
   "execution_count": 5,
   "id": "ab2c5368-1929-4912-9b75-71dbfd76eeec",
   "metadata": {},
   "outputs": [
    {
     "data": {
      "text/latex": [
       "$\\displaystyle v^{2} = \\frac{G M}{a}$"
      ],
      "text/plain": [
       "Eq(v**2, G*M/a)"
      ]
     },
     "execution_count": 5,
     "metadata": {},
     "output_type": "execute_result"
    }
   ],
   "source": [
    "sy.Eq(v**2, G*M/a)"
   ]
  },
  {
   "cell_type": "markdown",
   "id": "0fb62b99-4c3a-4b55-8165-994ca490a127",
   "metadata": {},
   "source": [
    "Onde G = constante gravitacional e 1/a = curvatura da órbita naquele ponto. Assim, quanto maior a curvatura, maior a velocidade do planeta. No caso do planeta, a maior curvatura (e, portanto, maior velocidade) fica no periélio, e a menor curvatura (e, portanto, menor velocidade) fica no afélio - essa equação comprova a variação da velocidade do astro ao redor de outro; também nota-se que a velocidade independe, de fato, da massa do astro que orbita."
   ]
  },
  {
   "cell_type": "markdown",
   "id": "4e5bea4d-ad2d-47b5-9678-3eab4349e763",
   "metadata": {},
   "source": [
    "Das conhecidas equações de velocidade escalar e da obtida acima, vem que, se:"
   ]
  },
  {
   "cell_type": "code",
   "execution_count": 9,
   "id": "a54a8f3e-c78d-484e-85bf-ce44d9397880",
   "metadata": {},
   "outputs": [
    {
     "data": {
      "text/latex": [
       "$\\displaystyle v = \\frac{s}{t}$"
      ],
      "text/plain": [
       "Eq(v, s/t)"
      ]
     },
     "execution_count": 9,
     "metadata": {},
     "output_type": "execute_result"
    }
   ],
   "source": [
    "v, s, t, pi, a, T = sy.symbols('v s t pi a T')\n",
    "sy.Eq(v, s/t)"
   ]
  },
  {
   "cell_type": "code",
   "execution_count": 10,
   "id": "089e90a8-feb2-4bd8-9d62-d6c61e8a60e0",
   "metadata": {},
   "outputs": [
    {
     "data": {
      "text/latex": [
       "$\\displaystyle \\frac{4 a^{2} \\pi^{2}}{T^{2}} = \\frac{G M}{a}$"
      ],
      "text/plain": [
       "Eq(4*a**2*pi**2/T**2, G*M/a)"
      ]
     },
     "execution_count": 10,
     "metadata": {},
     "output_type": "execute_result"
    }
   ],
   "source": [
    "sy.Eq((2*pi*a/T)**2, G*M/a)"
   ]
  },
  {
   "cell_type": "markdown",
   "id": "d96ab9a5-5e94-449c-b8bc-f95ca722bcc8",
   "metadata": {},
   "source": [
    "De onde vem que:"
   ]
  },
  {
   "cell_type": "code",
   "execution_count": 8,
   "id": "e58b1ea3-276d-4ec0-a935-4ed9b1e9e5be",
   "metadata": {},
   "outputs": [
    {
     "data": {
      "text/latex": [
       "$\\displaystyle T^{2} = \\frac{4 M \\pi^{3}}{G}$"
      ],
      "text/plain": [
       "Eq(T**2, 4*M*pi**3/G)"
      ]
     },
     "execution_count": 8,
     "metadata": {},
     "output_type": "execute_result"
    }
   ],
   "source": [
    "sy.Eq(T**2, (4*pi**3)/G*M)"
   ]
  }
 ],
 "metadata": {
  "kernelspec": {
   "display_name": "Python 3 (ipykernel)",
   "language": "python",
   "name": "python3"
  },
  "language_info": {
   "codemirror_mode": {
    "name": "ipython",
    "version": 3
   },
   "file_extension": ".py",
   "mimetype": "text/x-python",
   "name": "python",
   "nbconvert_exporter": "python",
   "pygments_lexer": "ipython3",
   "version": "3.10.0"
  }
 },
 "nbformat": 4,
 "nbformat_minor": 5
}
